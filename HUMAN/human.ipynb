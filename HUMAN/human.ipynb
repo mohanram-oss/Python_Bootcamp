{
 "cells": [
  {
   "cell_type": "code",
   "execution_count": 2,
   "id": "4423b780",
   "metadata": {},
   "outputs": [
    {
     "name": "stdout",
     "output_type": "stream",
     "text": [
      "Collecting imutils\n",
      "  Using cached imutils-0.5.4.tar.gz (17 kB)\n",
      "Building wheels for collected packages: imutils\n",
      "  Building wheel for imutils (setup.py): started\n",
      "  Building wheel for imutils (setup.py): finished with status 'done'\n",
      "  Created wheel for imutils: filename=imutils-0.5.4-py3-none-any.whl size=25860 sha256=a4a986bd5ba3879078a1f2c69ea8738f6ce98808cbafb03156d246009f8853b4\n",
      "  Stored in directory: c:\\users\\mohan\\appdata\\local\\pip\\cache\\wheels\\4b\\a5\\2d\\4a070a801d3a3d93f033d3ee9728f470f514826e89952df3ea\n",
      "Successfully built imutils\n",
      "Installing collected packages: imutils\n",
      "Successfully installed imutils-0.5.4\n",
      "Human Detected :  5\n"
     ]
    }
   ],
   "source": [
    "!pip install imutils\n",
    "import cv2 \n",
    "import imutils \n",
    "   \n",
    "# Initializing the HOG person \n",
    "hog = cv2.HOGDescriptor() \n",
    "hog.setSVMDetector(cv2.HOGDescriptor_getDefaultPeopleDetector()) \n",
    "   \n",
    "# Reading the Image \n",
    "image = cv2.imread('D:\\PRIVATE\\GITPROJECTS\\HUMAN\\hum.jpg') \n",
    "   \n",
    "# Resizing the Image \n",
    "image = imutils.resize(image,width=min(500, image.shape[1])) \n",
    "   \n",
    "# Detecting all humans \n",
    "(humans, _) = hog.detectMultiScale(image,winStride=(5, 5),padding=(3, 3),scale=1.21)\n",
    "# getting no. of human detected\n",
    "print('Human Detected : ', len(humans))\n",
    "   \n",
    "# Drawing the rectangle regions\n",
    "for (x, y, w, h) in humans:\n",
    "    cv2.rectangle(image, (x, y),(x + w, y + h),(0, 0, 255), 2) \n",
    "  \n",
    "# Displaying the output Image \n",
    "cv2.imshow(\"Image\", image) \n",
    "cv2.waitKey(0) \n",
    "   \n",
    "cv2.destroyAllWindows() "
   ]
  },
  {
   "cell_type": "code",
   "execution_count": null,
   "id": "89eccf3e",
   "metadata": {},
   "outputs": [],
   "source": []
  }
 ],
 "metadata": {
  "kernelspec": {
   "display_name": "Python 3 (ipykernel)",
   "language": "python",
   "name": "python3"
  },
  "language_info": {
   "codemirror_mode": {
    "name": "ipython",
    "version": 3
   },
   "file_extension": ".py",
   "mimetype": "text/x-python",
   "name": "python",
   "nbconvert_exporter": "python",
   "pygments_lexer": "ipython3",
   "version": "3.9.7"
  }
 },
 "nbformat": 4,
 "nbformat_minor": 5
}
